{
 "cells": [
  {
   "cell_type": "code",
   "execution_count": 3,
   "metadata": {},
   "outputs": [],
   "source": [
    "import habitat\n",
    "\n",
    "import numpy as np\n",
    "import random\n",
    "\n",
    "%matplotlib inline\n",
    "import matplotlib.pyplot as plt"
   ]
  },
  {
   "cell_type": "code",
   "execution_count": 8,
   "metadata": {},
   "outputs": [
    {
     "name": "stderr",
     "output_type": "stream",
     "text": [
      "2019-11-04 13:17:58,688 Initializing dataset PointNav-v1\n",
      "2019-11-04 13:17:58,690 initializing sim Sim-v0\n",
      "I1104 13:17:59.567231 32066 simulator.py:127] Loaded navmesh ../data/scene_datasets/habitat-test-scenes/skokloster-castle.navmesh\n",
      "2019-11-04 13:17:59,568 Initializing task Nav-v0\n"
     ]
    }
   ],
   "source": [
    "# Habitat-API\n",
    "# All the boilerplate code in the habitat-sim to set sensor config \n",
    "# and agent config is abstracted out in the Habitat-API config system.\n",
    "# Default config is at habitat/config/default.py. \n",
    "# You can override defaults by specifying them in a separate file and pass it to the get_config function\n",
    "# or defrost the config object, override parameters and freeze the config\n",
    "\n",
    "config = habitat.get_config(config_paths='../configs/tasks/pointnav_rgbd.yaml')\n",
    "config.defrost()\n",
    "config.DATASET.DATA_PATH = '../data/datasets/pointnav/habitat-test-scenes/v1/val/val.json.gz'\n",
    "config.DATASET.SCENES_DIR = '../data/scene_datasets/'\n",
    "config.freeze()\n",
    "\n",
    "env = habitat.Env(config=config)"
   ]
  },
  {
   "cell_type": "markdown",
   "metadata": {},
   "source": [
    "# Scene semantic annotations"
   ]
  },
  {
   "cell_type": "code",
   "execution_count": 9,
   "metadata": {
    "scrolled": true
   },
   "outputs": [],
   "source": [
    "def print_scene_recur(scene, limit_output=10):\n",
    "    count = 0\n",
    "    for level in scene.levels:\n",
    "        print(\n",
    "            f\"Level id:{level.id}, center:{level.aabb.center},\"\n",
    "            f\" dims:{level.aabb.sizes}\"\n",
    "        )\n",
    "        for region in level.regions:\n",
    "            print(\n",
    "                f\"Region id:{region.id}, category:{region.category.name()},\"\n",
    "                f\" center:{region.aabb.center}, dims:{region.aabb.sizes}\"\n",
    "            )\n",
    "            for obj in region.objects:\n",
    "                print(\n",
    "                    f\"Object id:{obj.id}, category:{obj.category.name()},\"\n",
    "                    f\" center:{obj.aabb.center}, dims:{obj.aabb.sizes}\"\n",
    "                )\n",
    "                count += 1\n",
    "                if count >= limit_output:\n",
    "                    return None\n",
    "\n",
    "# Print semantic annotation information (id, category, bounding box details) \n",
    "# for the current scene in a hierarchical fashion\n",
    "scene = env.sim.semantic_annotations()\n",
    "print_scene_recur(scene, limit_output=15)\n",
    "    \n",
    "env.close() \n",
    "# Note: Since only one OpenGL is allowed per process, \n",
    "# you have to close the current env before instantiating a new one."
   ]
  },
  {
   "cell_type": "markdown",
   "metadata": {},
   "source": [
    "# Take random actions and display sensor data"
   ]
  },
  {
   "cell_type": "code",
   "execution_count": 15,
   "metadata": {},
   "outputs": [
    {
     "ename": "NameError",
     "evalue": "name 'List' is not defined",
     "output_type": "error",
     "traceback": [
      "\u001b[0;31m---------------------------------------------------------------------------\u001b[0m",
      "\u001b[0;31mNameError\u001b[0m                                 Traceback (most recent call last)",
      "\u001b[0;32m<ipython-input-15-a12e7592518f>\u001b[0m in \u001b[0;36m<module>\u001b[0;34m\u001b[0m\n\u001b[1;32m     43\u001b[0m     \u001b[0;34m\"0xa55194\"\u001b[0m\u001b[0;34m,\u001b[0m\u001b[0;34m\u001b[0m\u001b[0;34m\u001b[0m\u001b[0m\n\u001b[1;32m     44\u001b[0m     \u001b[0;34m\"0xce6dbd\"\u001b[0m\u001b[0;34m,\u001b[0m\u001b[0;34m\u001b[0m\u001b[0;34m\u001b[0m\u001b[0m\n\u001b[0;32m---> 45\u001b[0;31m     \u001b[0;34m\"0xde9ed6\"\u001b[0m\u001b[0;34m,\u001b[0m\u001b[0;34m\u001b[0m\u001b[0;34m\u001b[0m\u001b[0m\n\u001b[0m\u001b[1;32m     46\u001b[0m ]\n\u001b[1;32m     47\u001b[0m \u001b[0;32mdef\u001b[0m \u001b[0mdisplay_sample\u001b[0m\u001b[0;34m(\u001b[0m\u001b[0mrgb_obs\u001b[0m\u001b[0;34m,\u001b[0m \u001b[0msemantic_obs\u001b[0m\u001b[0;34m,\u001b[0m \u001b[0mdepth_obs\u001b[0m\u001b[0;34m)\u001b[0m\u001b[0;34m:\u001b[0m\u001b[0;34m\u001b[0m\u001b[0;34m\u001b[0m\u001b[0m\n",
      "\u001b[0;31mNameError\u001b[0m: name 'List' is not defined"
     ]
    }
   ],
   "source": [
    "from PIL import Image\n",
    "import numpy as np\n",
    "# from habitat_sim.utils import d3_40_colors_rgb\n",
    "import habitat_sim.utils\n",
    "import numpy as np\n",
    "d3_40_colors_rgb = np.array[\n",
    "    \"0x1f77b4\",\n",
    "    \"0xaec7e8\",\n",
    "    \"0xff7f0e\",\n",
    "    \"0xffbb78\",\n",
    "    \"0x2ca02c\",\n",
    "    \"0x98df8a\",\n",
    "    \"0xd62728\",\n",
    "    \"0xff9896\",\n",
    "    \"0x9467bd\",\n",
    "    \"0xc5b0d5\",\n",
    "    \"0x8c564b\",\n",
    "    \"0xc49c94\",\n",
    "    \"0xe377c2\",\n",
    "    \"0xf7b6d2\",\n",
    "    \"0x7f7f7f\",\n",
    "    \"0xc7c7c7\",\n",
    "    \"0xbcbd22\",\n",
    "    \"0xdbdb8d\",\n",
    "    \"0x17becf\",\n",
    "    \"0x9edae5\",\n",
    "    \"0x393b79\",\n",
    "    \"0x5254a3\",\n",
    "    \"0x6b6ecf\",\n",
    "    \"0x9c9ede\",\n",
    "    \"0x637939\",\n",
    "    \"0x8ca252\",\n",
    "    \"0xb5cf6b\",\n",
    "    \"0xcedb9c\",\n",
    "    \"0x8c6d31\",\n",
    "    \"0xbd9e39\",\n",
    "    \"0xe7ba52\",\n",
    "    \"0xe7cb94\",\n",
    "    \"0x843c39\",\n",
    "    \"0xad494a\",\n",
    "    \"0xd6616b\",\n",
    "    \"0xe7969c\",\n",
    "    \"0x7b4173\",\n",
    "    \"0xa55194\",\n",
    "    \"0xce6dbd\",\n",
    "    \"0xde9ed6\",\n",
    "]\n",
    "def display_sample(rgb_obs, semantic_obs, depth_obs):\n",
    "    rgb_img = Image.fromarray(rgb_obs, mode=\"RGB\")\n",
    "    \n",
    "    semantic_img = Image.new(\"P\", (semantic_obs.shape[1], semantic_obs.shape[0]))\n",
    "    semantic_img.putpalette(d3_40_colors_rgb.flatten())\n",
    "    semantic_img.putdata((semantic_obs.flatten() % 40).astype(np.uint8))\n",
    "    semantic_img = semantic_img.convert(\"RGBA\")\n",
    "    \n",
    "    depth_img = Image.fromarray((depth_obs * 255).astype(np.uint8), mode=\"L\")\n",
    "\n",
    "    arr = [rgb_img, semantic_img, depth_img]\n",
    "    \n",
    "    titles = ['rgb', 'semantic', 'depth']\n",
    "    plt.figure(figsize=(12 ,8))\n",
    "    for i, data in enumerate(arr):\n",
    "        ax = plt.subplot(1, 3, i+1)\n",
    "        ax.axis('off')\n",
    "        ax.set_title(titles[i])\n",
    "        plt.imshow(data)\n",
    "    plt.show()"
   ]
  },
  {
   "cell_type": "code",
   "execution_count": null,
   "metadata": {
    "scrolled": false
   },
   "outputs": [
    {
     "name": "stderr",
     "output_type": "stream",
     "text": [
      "2019-11-04 13:21:12,483 Initializing dataset PointNav-v1\n",
      "2019-11-04 13:21:12,488 initializing sim Sim-v0\n"
     ]
    }
   ],
   "source": [
    "config = habitat.get_config(config_paths='../configs/tasks/pointnav_rgbd.yaml')\n",
    "config.defrost()\n",
    "config.DATASET.DATA_PATH = '../data/datasets/pointnav/habitat-test-scenes/v1/val/val.json.gz'\n",
    "config.DATASET.SCENES_DIR = '../data/scene_datasets/'\n",
    "config.SIMULATOR.AGENT_0.SENSORS = ['RGB_SENSOR', 'DEPTH_SENSOR', 'SEMANTIC_SENSOR']\n",
    "config.SIMULATOR.SEMANTIC_SENSOR.WIDTH = 256\n",
    "config.SIMULATOR.SEMANTIC_SENSOR.HEIGHT = 256\n",
    "config.SIMULATOR.TURN_ANGLE = 30\n",
    "config.freeze()\n",
    "\n",
    "env = habitat.Env(config=config)\n",
    "env.episodes = random.sample(env.episodes, 2)\n",
    "\n",
    "max_steps = 4\n",
    "\n",
    "action_mapping = {\n",
    "    0: 'stop',\n",
    "    1: 'move_forward',\n",
    "    2: 'turn left',\n",
    "    3: 'turn right'\n",
    "}\n",
    "\n",
    "for i in range(len(env.episodes)):\n",
    "    observations = env.reset()\n",
    "    \n",
    "    display_sample(observations['rgb'], observations['semantic'], np.squeeze(observations['depth']))\n",
    "    \n",
    "    count_steps = 0\n",
    "    while count_steps < max_steps:\n",
    "        action = random.choice(list(action_mapping.keys()))\n",
    "        print(action_mapping[action])\n",
    "        observations = env.step(action)\n",
    "        display_sample(observations['rgb'], observations['semantic'], np.squeeze(observations['depth']))\n",
    "\n",
    "        count_steps += 1\n",
    "        if env.episode_over:\n",
    "            break\n",
    "        \n",
    "env.close()"
   ]
  },
  {
   "cell_type": "raw",
   "metadata": {},
   "source": []
  }
 ],
 "metadata": {
  "kernelspec": {
   "display_name": "Python 3",
   "language": "python",
   "name": "python3"
  },
  "language_info": {
   "codemirror_mode": {
    "name": "ipython",
    "version": 3
   },
   "file_extension": ".py",
   "mimetype": "text/x-python",
   "name": "python",
   "nbconvert_exporter": "python",
   "pygments_lexer": "ipython3",
   "version": "3.6.8"
  }
 },
 "nbformat": 4,
 "nbformat_minor": 2
}
